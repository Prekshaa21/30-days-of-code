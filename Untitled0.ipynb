{
  "nbformat": 4,
  "nbformat_minor": 0,
  "metadata": {
    "colab": {
      "provenance": [],
      "authorship_tag": "ABX9TyMHXr9pbixouwAGJWBYTjfM",
      "include_colab_link": true
    },
    "kernelspec": {
      "name": "python3",
      "display_name": "Python 3"
    },
    "language_info": {
      "name": "python"
    }
  },
  "cells": [
    {
      "cell_type": "markdown",
      "metadata": {
        "id": "view-in-github",
        "colab_type": "text"
      },
      "source": [
        "<a href=\"https://colab.research.google.com/github/Prekshaa21/30-days-of-code/blob/main/Untitled0.ipynb\" target=\"_parent\"><img src=\"https://colab.research.google.com/assets/colab-badge.svg\" alt=\"Open In Colab\"/></a>"
      ]
    },
    {
      "cell_type": "code",
      "execution_count": 5,
      "metadata": {
        "colab": {
          "base_uri": "https://localhost:8080/"
        },
        "id": "PYACH2uD-ToB",
        "outputId": "d3e67adf-4164-45ac-ae9e-4e057b7dfb72"
      },
      "outputs": [
        {
          "output_type": "stream",
          "name": "stdout",
          "text": [
            "Requirement already satisfied: nltk in /usr/local/lib/python3.10/dist-packages (3.8.1)\n",
            "Requirement already satisfied: click in /usr/local/lib/python3.10/dist-packages (from nltk) (8.1.6)\n",
            "Requirement already satisfied: joblib in /usr/local/lib/python3.10/dist-packages (from nltk) (1.3.1)\n",
            "Requirement already satisfied: regex>=2021.8.3 in /usr/local/lib/python3.10/dist-packages (from nltk) (2022.10.31)\n",
            "Requirement already satisfied: tqdm in /usr/local/lib/python3.10/dist-packages (from nltk) (4.65.0)\n"
          ]
        }
      ],
      "source": [
        "pip install nltk\n"
      ]
    },
    {
      "cell_type": "code",
      "source": [
        "import nltk"
      ],
      "metadata": {
        "id": "9RzsYyoi-egM"
      },
      "execution_count": 6,
      "outputs": []
    },
    {
      "cell_type": "code",
      "source": [
        "nltk.download('punkt')"
      ],
      "metadata": {
        "colab": {
          "base_uri": "https://localhost:8080/"
        },
        "id": "fUsWxXA3-ePW",
        "outputId": "1ca09df9-d275-4e9e-bb79-2df4214fed15"
      },
      "execution_count": 9,
      "outputs": [
        {
          "output_type": "stream",
          "name": "stderr",
          "text": [
            "[nltk_data] Downloading package punkt to /root/nltk_data...\n",
            "[nltk_data]   Package punkt is already up-to-date!\n"
          ]
        },
        {
          "output_type": "execute_result",
          "data": {
            "text/plain": [
              "True"
            ]
          },
          "metadata": {},
          "execution_count": 9
        }
      ]
    },
    {
      "cell_type": "code",
      "source": [
        "paragraph = \"\"\"Much of the substance of the discussion is prefigured in a new book of essays, The Economic Crisis and the State of Economics, edited by leading Keynesian Robert Skidelsky. Although written last year in response to the recession, its themes have now become central to the range of economists lined up in Soros’ new Institute. The three main themes to emerge are: first, the future is uncertain and cannot be predicted; secondly, no economic model can be trusted to work; and thirdly, economics cannot be a science, because it is driven by often irrational human behaviours. A fourth, although often tacit conclusion, is that the state has to be prepared to intervene to make up for the inadequacies of the market.\n",
        "\n",
        "\"\"\""
      ],
      "metadata": {
        "id": "xXQ0w7znBiVy"
      },
      "execution_count": 13,
      "outputs": []
    },
    {
      "cell_type": "code",
      "source": [
        "sentences = nltk.sent_tokenize(paragraph)"
      ],
      "metadata": {
        "id": "-MXyVGf0BiFt"
      },
      "execution_count": 14,
      "outputs": []
    },
    {
      "cell_type": "code",
      "source": [
        "sentences"
      ],
      "metadata": {
        "colab": {
          "base_uri": "https://localhost:8080/"
        },
        "id": "rBxp9eaGCyhC",
        "outputId": "c33b54a3-4256-4725-ffe9-681fa5b94b74"
      },
      "execution_count": 16,
      "outputs": [
        {
          "output_type": "execute_result",
          "data": {
            "text/plain": [
              "['Much of the substance of the discussion is prefigured in a new book of essays, The Economic Crisis and the State of Economics, edited by leading Keynesian Robert Skidelsky.',\n",
              " 'Although written last year in response to the recession, its themes have now become central to the range of economists lined up in Soros’ new Institute.',\n",
              " 'The three main themes to emerge are: first, the future is uncertain and cannot be predicted; secondly, no economic model can be trusted to work; and thirdly, economics cannot be a science, because it is driven by often irrational human behaviours.',\n",
              " 'A fourth, although often tacit conclusion, is that the state has to be prepared to intervene to make up for the inadequacies of the market.']"
            ]
          },
          "metadata": {},
          "execution_count": 16
        }
      ]
    },
    {
      "cell_type": "code",
      "source": [
        "words = nltk.word_tokenize(paragraph)"
      ],
      "metadata": {
        "id": "lZt8B080C4nF"
      },
      "execution_count": 17,
      "outputs": []
    },
    {
      "cell_type": "code",
      "source": [
        "words\n"
      ],
      "metadata": {
        "colab": {
          "base_uri": "https://localhost:8080/"
        },
        "id": "lFFR08tvDEZS",
        "outputId": "3cd33159-4fa8-4969-985a-22ddf6e64df5"
      },
      "execution_count": 18,
      "outputs": [
        {
          "output_type": "execute_result",
          "data": {
            "text/plain": [
              "['Much',\n",
              " 'of',\n",
              " 'the',\n",
              " 'substance',\n",
              " 'of',\n",
              " 'the',\n",
              " 'discussion',\n",
              " 'is',\n",
              " 'prefigured',\n",
              " 'in',\n",
              " 'a',\n",
              " 'new',\n",
              " 'book',\n",
              " 'of',\n",
              " 'essays',\n",
              " ',',\n",
              " 'The',\n",
              " 'Economic',\n",
              " 'Crisis',\n",
              " 'and',\n",
              " 'the',\n",
              " 'State',\n",
              " 'of',\n",
              " 'Economics',\n",
              " ',',\n",
              " 'edited',\n",
              " 'by',\n",
              " 'leading',\n",
              " 'Keynesian',\n",
              " 'Robert',\n",
              " 'Skidelsky',\n",
              " '.',\n",
              " 'Although',\n",
              " 'written',\n",
              " 'last',\n",
              " 'year',\n",
              " 'in',\n",
              " 'response',\n",
              " 'to',\n",
              " 'the',\n",
              " 'recession',\n",
              " ',',\n",
              " 'its',\n",
              " 'themes',\n",
              " 'have',\n",
              " 'now',\n",
              " 'become',\n",
              " 'central',\n",
              " 'to',\n",
              " 'the',\n",
              " 'range',\n",
              " 'of',\n",
              " 'economists',\n",
              " 'lined',\n",
              " 'up',\n",
              " 'in',\n",
              " 'Soros',\n",
              " '’',\n",
              " 'new',\n",
              " 'Institute',\n",
              " '.',\n",
              " 'The',\n",
              " 'three',\n",
              " 'main',\n",
              " 'themes',\n",
              " 'to',\n",
              " 'emerge',\n",
              " 'are',\n",
              " ':',\n",
              " 'first',\n",
              " ',',\n",
              " 'the',\n",
              " 'future',\n",
              " 'is',\n",
              " 'uncertain',\n",
              " 'and',\n",
              " 'can',\n",
              " 'not',\n",
              " 'be',\n",
              " 'predicted',\n",
              " ';',\n",
              " 'secondly',\n",
              " ',',\n",
              " 'no',\n",
              " 'economic',\n",
              " 'model',\n",
              " 'can',\n",
              " 'be',\n",
              " 'trusted',\n",
              " 'to',\n",
              " 'work',\n",
              " ';',\n",
              " 'and',\n",
              " 'thirdly',\n",
              " ',',\n",
              " 'economics',\n",
              " 'can',\n",
              " 'not',\n",
              " 'be',\n",
              " 'a',\n",
              " 'science',\n",
              " ',',\n",
              " 'because',\n",
              " 'it',\n",
              " 'is',\n",
              " 'driven',\n",
              " 'by',\n",
              " 'often',\n",
              " 'irrational',\n",
              " 'human',\n",
              " 'behaviours',\n",
              " '.',\n",
              " 'A',\n",
              " 'fourth',\n",
              " ',',\n",
              " 'although',\n",
              " 'often',\n",
              " 'tacit',\n",
              " 'conclusion',\n",
              " ',',\n",
              " 'is',\n",
              " 'that',\n",
              " 'the',\n",
              " 'state',\n",
              " 'has',\n",
              " 'to',\n",
              " 'be',\n",
              " 'prepared',\n",
              " 'to',\n",
              " 'intervene',\n",
              " 'to',\n",
              " 'make',\n",
              " 'up',\n",
              " 'for',\n",
              " 'the',\n",
              " 'inadequacies',\n",
              " 'of',\n",
              " 'the',\n",
              " 'market',\n",
              " '.']"
            ]
          },
          "metadata": {},
          "execution_count": 18
        }
      ]
    }
  ]
}