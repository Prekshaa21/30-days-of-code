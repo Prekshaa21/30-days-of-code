{
  "nbformat": 4,
  "nbformat_minor": 0,
  "metadata": {
    "colab": {
      "provenance": [],
      "authorship_tag": "ABX9TyNqxQln8Du45HYcACopLsDc",
      "include_colab_link": true
    },
    "kernelspec": {
      "name": "python3",
      "display_name": "Python 3"
    },
    "language_info": {
      "name": "python"
    }
  },
  "cells": [
    {
      "cell_type": "markdown",
      "metadata": {
        "id": "view-in-github",
        "colab_type": "text"
      },
      "source": [
        "<a href=\"https://colab.research.google.com/github/Prekshaa21/30-days-of-code/blob/main/Untitled0.ipynb\" target=\"_parent\"><img src=\"https://colab.research.google.com/assets/colab-badge.svg\" alt=\"Open In Colab\"/></a>"
      ]
    },
    {
      "cell_type": "code",
      "execution_count": 3,
      "metadata": {
        "colab": {
          "base_uri": "https://localhost:8080/"
        },
        "id": "PYACH2uD-ToB",
        "outputId": "7883ea5c-ffc9-4058-947c-21b6b0102780"
      },
      "outputs": [
        {
          "output_type": "stream",
          "name": "stdout",
          "text": [
            "Requirement already satisfied: nltk in /usr/local/lib/python3.10/dist-packages (3.8.1)\n",
            "Requirement already satisfied: click in /usr/local/lib/python3.10/dist-packages (from nltk) (8.1.6)\n",
            "Requirement already satisfied: joblib in /usr/local/lib/python3.10/dist-packages (from nltk) (1.3.1)\n",
            "Requirement already satisfied: regex>=2021.8.3 in /usr/local/lib/python3.10/dist-packages (from nltk) (2022.10.31)\n",
            "Requirement already satisfied: tqdm in /usr/local/lib/python3.10/dist-packages (from nltk) (4.65.0)\n"
          ]
        }
      ],
      "source": [
        "pip install nltk\n"
      ]
    },
    {
      "cell_type": "code",
      "source": [
        "import nltk"
      ],
      "metadata": {
        "id": "9RzsYyoi-egM"
      },
      "execution_count": 4,
      "outputs": []
    },
    {
      "cell_type": "code",
      "source": [
        "nltk.download('punkt')"
      ],
      "metadata": {
        "colab": {
          "base_uri": "https://localhost:8080/"
        },
        "id": "fUsWxXA3-ePW",
        "outputId": "dcac270a-602c-4412-f6a1-20033e49be95"
      },
      "execution_count": 5,
      "outputs": [
        {
          "output_type": "stream",
          "name": "stderr",
          "text": [
            "[nltk_data] Downloading package punkt to /root/nltk_data...\n",
            "[nltk_data]   Unzipping tokenizers/punkt.zip.\n"
          ]
        },
        {
          "output_type": "execute_result",
          "data": {
            "text/plain": [
              "True"
            ]
          },
          "metadata": {},
          "execution_count": 5
        }
      ]
    },
    {
      "cell_type": "code",
      "source": [
        "paragraph = \"\"\"Much of the substance of the discussion is prefigured in a new book of essays, The Economic Crisis and the State of Economics, edited by leading Keynesian Robert Skidelsky. Although written last year in response to the recession, its themes have now become central to the range of economists lined up in Soros’ new Institute. The three main themes to emerge are: first, the future is uncertain and cannot be predicted; secondly, no economic model can be trusted to work; and thirdly, economics cannot be a science, because it is driven by often irrational human behaviours. A fourth, although often tacit conclusion, is that the state has to be prepared to intervene to make up for the inadequacies of the market.\n",
        "\n",
        "\"\"\""
      ],
      "metadata": {
        "id": "xXQ0w7znBiVy"
      },
      "execution_count": 6,
      "outputs": []
    },
    {
      "cell_type": "code",
      "source": [
        "sentences = nltk.sent_tokenize(paragraph)"
      ],
      "metadata": {
        "id": "-MXyVGf0BiFt"
      },
      "execution_count": 7,
      "outputs": []
    },
    {
      "cell_type": "code",
      "source": [
        "sentences"
      ],
      "metadata": {
        "colab": {
          "base_uri": "https://localhost:8080/"
        },
        "id": "rBxp9eaGCyhC",
        "outputId": "71630017-1f81-4469-e061-06ba94bee043"
      },
      "execution_count": 8,
      "outputs": [
        {
          "output_type": "execute_result",
          "data": {
            "text/plain": [
              "['Much of the substance of the discussion is prefigured in a new book of essays, The Economic Crisis and the State of Economics, edited by leading Keynesian Robert Skidelsky.',\n",
              " 'Although written last year in response to the recession, its themes have now become central to the range of economists lined up in Soros’ new Institute.',\n",
              " 'The three main themes to emerge are: first, the future is uncertain and cannot be predicted; secondly, no economic model can be trusted to work; and thirdly, economics cannot be a science, because it is driven by often irrational human behaviours.',\n",
              " 'A fourth, although often tacit conclusion, is that the state has to be prepared to intervene to make up for the inadequacies of the market.']"
            ]
          },
          "metadata": {},
          "execution_count": 8
        }
      ]
    },
    {
      "cell_type": "code",
      "source": [
        "words = nltk.word_tokenize(paragraph)"
      ],
      "metadata": {
        "id": "lZt8B080C4nF"
      },
      "execution_count": 41,
      "outputs": []
    },
    {
      "cell_type": "code",
      "source": [],
      "metadata": {
        "id": "xnL91h6wYd0q"
      },
      "execution_count": null,
      "outputs": []
    },
    {
      "cell_type": "code",
      "source": [
        "from nltk.stem import WordNetLemmatizer"
      ],
      "metadata": {
        "id": "4_OethE8W9dn"
      },
      "execution_count": 42,
      "outputs": []
    },
    {
      "cell_type": "code",
      "source": [
        "from nltk.corpus import stopwords"
      ],
      "metadata": {
        "id": "07WxxAebW9XG"
      },
      "execution_count": 43,
      "outputs": []
    },
    {
      "cell_type": "code",
      "source": [
        "lemmatizer=WordNetLemmatizer()"
      ],
      "metadata": {
        "id": "KmeGE12CZABX"
      },
      "execution_count": 35,
      "outputs": []
    },
    {
      "cell_type": "code",
      "source": [
        "for i in range(len(sentences)):\n",
        "  words=nltk.word_tokenize(sentences[i])\n",
        "  words=[lemmatizer.lemmatize(word) for word in words if word not in set(stopwords.words('english'))]\n",
        "  sentences[i]=' '.join(words)"
      ],
      "metadata": {
        "id": "qzrzsmzsZGVz"
      },
      "execution_count": 36,
      "outputs": []
    },
    {
      "cell_type": "code",
      "source": [
        "for i in range(len(sentences)):\n",
        "  print(sentences[i])"
      ],
      "metadata": {
        "colab": {
          "base_uri": "https://localhost:8080/"
        },
        "id": "ulSQW_8bZF0C",
        "outputId": "42bc9593-e324-4b02-8af6-f872cf103a66"
      },
      "execution_count": 38,
      "outputs": [
        {
          "output_type": "stream",
          "name": "stdout",
          "text": [
            "Much substance discussion prefigured new book essay , The Economic Crisis State Economics , edited leading Keynesian Robert Skidelsky .\n",
            "Although written last year response recession , theme become central range economist lined Soros ’ new Institute .\n",
            "The three main theme emerge : first , future uncertain predicted ; secondly , economic model trusted work ; thirdly , economics science , driven often irrational human behaviour .\n",
            "A fourth , although often tacit conclusion , state prepared intervene make inadequacy market .\n"
          ]
        }
      ]
    }
  ]
}